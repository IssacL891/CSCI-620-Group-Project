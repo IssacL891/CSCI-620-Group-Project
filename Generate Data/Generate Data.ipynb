{
 "cells": [
  {
   "cell_type": "code",
   "execution_count": null,
   "id": "a23e074b",
   "metadata": {},
   "outputs": [],
   "source": [
    "import os\n",
    "import ibis\n",
    "\n",
    "# Always create a new DuckDB database\n",
    "\n",
    "if(os.path.exists(\"student_performance.duckdb\")):\n",
    "    os.remove(\"student_performance.duckdb\")\n",
    "\n",
    "# Create a connection to the DuckDB database\n",
    "con = ibis.duckdb.connect(database=\"student_performance.duckdb\")\n",
    "# Create the tables in the DuckDB database\n",
    "test_table = con.read_csv(\"student-performance/test.csv\", table_name=\"test\")\n",
    "train_table = con.read_csv(\"student-performance/train.csv\", table_name=\"train\")\n",
    "validation_table = con.read_csv(\"student-performance/validation.csv\", table_name=\"validation\")\n",
    "\n",
    "all_tables = test_table.union(train_table).union(validation_table)\n"
   ]
  },
  {
   "cell_type": "code",
   "execution_count": null,
   "id": "18d71b5d",
   "metadata": {},
   "outputs": [
    {
     "data": {
      "application/vnd.jupyter.widget-view+json": {
       "model_id": "10ce9abe9e58449caf0d45f6435a0b9e",
       "version_major": 2,
       "version_minor": 0
      },
      "text/plain": [
       "FloatProgress(value=0.0, layout=Layout(width='auto'), style=ProgressStyle(bar_color='black'))"
      ]
     },
     "metadata": {},
     "output_type": "display_data"
    },
    {
     "name": "stdout",
     "output_type": "stream",
     "text": [
      "Metadata file already exists. Loading existing metadata.\n"
     ]
    }
   ],
   "source": [
    "from sdv.single_table import GaussianCopulaSynthesizer\n",
    "from sdv.metadata import Metadata\n",
    "\n",
    "all_tables_pandas = all_tables.to_pandas()\n",
    "\n",
    "# Check if file is already saved on disk\n",
    "if os.path.exists(\"metadata.json\"):\n",
    "    print(\"Metadata file already exists. Loading existing metadata.\")\n",
    "    metadata = Metadata.load_from_json(\"metadata.json\")\n",
    "else:\n",
    "    # Save the metadata to a JSON file\n",
    "    metadata = Metadata.detect_from_dataframe(all_tables_pandas)\n",
    "    metadata.save_to_json(\"metadata.json\")"
   ]
  },
  {
   "cell_type": "code",
   "execution_count": 3,
   "id": "a5589bc0",
   "metadata": {},
   "outputs": [
    {
     "name": "stdout",
     "output_type": "stream",
     "text": [
      "GaussianCopulaSynthesizer.pkl file already exists. Loading existing synthesizer.\n"
     ]
    }
   ],
   "source": [
    "# Check if the synthesizer has already been trained and saved\n",
    "if os.path.exists(\"GaussianCopulaSynthesizer.pkl\"):\n",
    "    print(\"GaussianCopulaSynthesizer.pkl file already exists. Loading existing synthesizer.\")\n",
    "    synthesizer = GaussianCopulaSynthesizer.load(\"GaussianCopulaSynthesizer.pkl\")\n",
    "else:\n",
    "    synthesizer = GaussianCopulaSynthesizer(metadata)\n",
    "    synthesizer.fit(all_tables_pandas)\n",
    "    synthesizer.save(\"GaussianCopulaSynthesizer.pkl\")"
   ]
  },
  {
   "cell_type": "code",
   "execution_count": 4,
   "id": "a0bcf243",
   "metadata": {},
   "outputs": [
    {
     "data": {
      "text/html": [
       "<div>\n",
       "<style scoped>\n",
       "    .dataframe tbody tr th:only-of-type {\n",
       "        vertical-align: middle;\n",
       "    }\n",
       "\n",
       "    .dataframe tbody tr th {\n",
       "        vertical-align: top;\n",
       "    }\n",
       "\n",
       "    .dataframe thead th {\n",
       "        text-align: right;\n",
       "    }\n",
       "</style>\n",
       "<table border=\"1\" class=\"dataframe\">\n",
       "  <thead>\n",
       "    <tr style=\"text-align: right;\">\n",
       "      <th></th>\n",
       "      <th>Age</th>\n",
       "      <th>Grade</th>\n",
       "      <th>Gender</th>\n",
       "      <th>Race</th>\n",
       "      <th>SES_Quartile</th>\n",
       "      <th>ParentalEducation</th>\n",
       "      <th>SchoolType</th>\n",
       "      <th>Locale</th>\n",
       "      <th>TestScore_Math</th>\n",
       "      <th>TestScore_Reading</th>\n",
       "      <th>...</th>\n",
       "      <th>GPA</th>\n",
       "      <th>AttendanceRate</th>\n",
       "      <th>StudyHours</th>\n",
       "      <th>InternetAccess</th>\n",
       "      <th>Extracurricular</th>\n",
       "      <th>PartTimeJob</th>\n",
       "      <th>ParentSupport</th>\n",
       "      <th>Romantic</th>\n",
       "      <th>FreeTime</th>\n",
       "      <th>GoOut</th>\n",
       "    </tr>\n",
       "  </thead>\n",
       "  <tbody>\n",
       "    <tr>\n",
       "      <th>0</th>\n",
       "      <td>14</td>\n",
       "      <td>9</td>\n",
       "      <td>Female</td>\n",
       "      <td>White</td>\n",
       "      <td>1</td>\n",
       "      <td>&lt;HS</td>\n",
       "      <td>Public</td>\n",
       "      <td>Suburban</td>\n",
       "      <td>64.194801</td>\n",
       "      <td>69.385780</td>\n",
       "      <td>...</td>\n",
       "      <td>2.465075</td>\n",
       "      <td>0.868951</td>\n",
       "      <td>0.706296</td>\n",
       "      <td>1</td>\n",
       "      <td>1</td>\n",
       "      <td>0</td>\n",
       "      <td>0</td>\n",
       "      <td>0</td>\n",
       "      <td>3</td>\n",
       "      <td>1</td>\n",
       "    </tr>\n",
       "    <tr>\n",
       "      <th>1</th>\n",
       "      <td>18</td>\n",
       "      <td>9</td>\n",
       "      <td>Male</td>\n",
       "      <td>White</td>\n",
       "      <td>2</td>\n",
       "      <td>SomeCollege</td>\n",
       "      <td>Public</td>\n",
       "      <td>Rural</td>\n",
       "      <td>76.287725</td>\n",
       "      <td>78.685440</td>\n",
       "      <td>...</td>\n",
       "      <td>2.750959</td>\n",
       "      <td>0.876394</td>\n",
       "      <td>0.740991</td>\n",
       "      <td>1</td>\n",
       "      <td>0</td>\n",
       "      <td>0</td>\n",
       "      <td>1</td>\n",
       "      <td>0</td>\n",
       "      <td>1</td>\n",
       "      <td>2</td>\n",
       "    </tr>\n",
       "    <tr>\n",
       "      <th>2</th>\n",
       "      <td>18</td>\n",
       "      <td>9</td>\n",
       "      <td>Male</td>\n",
       "      <td>Hispanic</td>\n",
       "      <td>2</td>\n",
       "      <td>SomeCollege</td>\n",
       "      <td>Public</td>\n",
       "      <td>Town</td>\n",
       "      <td>82.439512</td>\n",
       "      <td>67.883948</td>\n",
       "      <td>...</td>\n",
       "      <td>3.395841</td>\n",
       "      <td>0.904526</td>\n",
       "      <td>1.236483</td>\n",
       "      <td>1</td>\n",
       "      <td>1</td>\n",
       "      <td>0</td>\n",
       "      <td>0</td>\n",
       "      <td>0</td>\n",
       "      <td>4</td>\n",
       "      <td>1</td>\n",
       "    </tr>\n",
       "    <tr>\n",
       "      <th>3</th>\n",
       "      <td>14</td>\n",
       "      <td>9</td>\n",
       "      <td>Female</td>\n",
       "      <td>White</td>\n",
       "      <td>2</td>\n",
       "      <td>HS</td>\n",
       "      <td>Private</td>\n",
       "      <td>City</td>\n",
       "      <td>53.146273</td>\n",
       "      <td>61.847485</td>\n",
       "      <td>...</td>\n",
       "      <td>2.441441</td>\n",
       "      <td>0.791700</td>\n",
       "      <td>0.776182</td>\n",
       "      <td>1</td>\n",
       "      <td>0</td>\n",
       "      <td>0</td>\n",
       "      <td>1</td>\n",
       "      <td>1</td>\n",
       "      <td>3</td>\n",
       "      <td>1</td>\n",
       "    </tr>\n",
       "    <tr>\n",
       "      <th>4</th>\n",
       "      <td>14</td>\n",
       "      <td>12</td>\n",
       "      <td>Male</td>\n",
       "      <td>Hispanic</td>\n",
       "      <td>1</td>\n",
       "      <td>SomeCollege</td>\n",
       "      <td>Public</td>\n",
       "      <td>Suburban</td>\n",
       "      <td>82.211638</td>\n",
       "      <td>80.871048</td>\n",
       "      <td>...</td>\n",
       "      <td>3.878573</td>\n",
       "      <td>0.954287</td>\n",
       "      <td>1.299302</td>\n",
       "      <td>1</td>\n",
       "      <td>1</td>\n",
       "      <td>0</td>\n",
       "      <td>1</td>\n",
       "      <td>0</td>\n",
       "      <td>3</td>\n",
       "      <td>3</td>\n",
       "    </tr>\n",
       "  </tbody>\n",
       "</table>\n",
       "<p>5 rows × 21 columns</p>\n",
       "</div>"
      ],
      "text/plain": [
       "   Age  Grade  Gender      Race  SES_Quartile ParentalEducation SchoolType  \\\n",
       "0   14      9  Female     White             1               <HS     Public   \n",
       "1   18      9    Male     White             2       SomeCollege     Public   \n",
       "2   18      9    Male  Hispanic             2       SomeCollege     Public   \n",
       "3   14      9  Female     White             2                HS    Private   \n",
       "4   14     12    Male  Hispanic             1       SomeCollege     Public   \n",
       "\n",
       "     Locale  TestScore_Math  TestScore_Reading  ...       GPA  AttendanceRate  \\\n",
       "0  Suburban       64.194801          69.385780  ...  2.465075        0.868951   \n",
       "1     Rural       76.287725          78.685440  ...  2.750959        0.876394   \n",
       "2      Town       82.439512          67.883948  ...  3.395841        0.904526   \n",
       "3      City       53.146273          61.847485  ...  2.441441        0.791700   \n",
       "4  Suburban       82.211638          80.871048  ...  3.878573        0.954287   \n",
       "\n",
       "   StudyHours  InternetAccess  Extracurricular  PartTimeJob  ParentSupport  \\\n",
       "0    0.706296               1                1            0              0   \n",
       "1    0.740991               1                0            0              1   \n",
       "2    1.236483               1                1            0              0   \n",
       "3    0.776182               1                0            0              1   \n",
       "4    1.299302               1                1            0              1   \n",
       "\n",
       "   Romantic  FreeTime  GoOut  \n",
       "0         0         3      1  \n",
       "1         0         1      2  \n",
       "2         0         4      1  \n",
       "3         1         3      1  \n",
       "4         0         3      3  \n",
       "\n",
       "[5 rows x 21 columns]"
      ]
     },
     "execution_count": 4,
     "metadata": {},
     "output_type": "execute_result"
    }
   ],
   "source": [
    "synthetic_data = synthesizer.sample(num_rows=1000)\n",
    "synthetic_data.head()"
   ]
  },
  {
   "cell_type": "code",
   "execution_count": null,
   "id": "9a50f069",
   "metadata": {},
   "outputs": [
    {
     "data": {
      "application/vnd.jupyter.widget-view+json": {
       "model_id": "ee91bb934b4043ca9f71f503f47b8eb9",
       "version_major": 2,
       "version_minor": 0
      },
      "text/plain": [
       "FloatProgress(value=0.0, layout=Layout(width='auto'), style=ProgressStyle(bar_color='black'))"
      ]
     },
     "metadata": {},
     "output_type": "display_data"
    },
    {
     "name": "stderr",
     "output_type": "stream",
     "text": [
      "  8%|▊         | 4/49 [01:19<15:06, 20.14s/it]"
     ]
    }
   ],
   "source": [
    "from tqdm import tqdm\n",
    "# Number of total rows and chunk size\n",
    "total_rows = 50_000_000\n",
    "chunk_size = 1_000_000\n",
    "\n",
    "# Generate and insert the first chunk, creating the table\n",
    "first_chunk = synthesizer.sample(chunk_size)\n",
    "con.create_table(\"synthetic\", first_chunk)\n",
    "\n",
    "# Generate and append the remaining chunks\n",
    "for _ in tqdm(range((total_rows // chunk_size) - 1)):\n",
    "    chunk = synthesizer.sample(chunk_size)\n",
    "    con.insert(\"synthetic\", chunk)"
   ]
  },
  {
   "cell_type": "code",
   "execution_count": null,
   "id": "ab4a22f1",
   "metadata": {},
   "outputs": [],
   "source": [
    "# Save the Data as CSV\n",
    "\n",
    "con.raw_sql(\"COPY synthetic TO 'synthetic.csv' (HEADER, DELIMITER ',')\")\n"
   ]
  },
  {
   "cell_type": "code",
   "execution_count": null,
   "id": "4c13f131",
   "metadata": {},
   "outputs": [],
   "source": [
    "test = ibis.read_csv(\"synthetic.csv\")"
   ]
  },
  {
   "cell_type": "code",
   "execution_count": null,
   "id": "bf7c8d00",
   "metadata": {},
   "outputs": [],
   "source": [
    "test.count().execute()"
   ]
  },
  {
   "cell_type": "code",
   "execution_count": null,
   "id": "4bd9ef45",
   "metadata": {},
   "outputs": [],
   "source": [
    "# Move the CSV file to the desired location\n",
    "import shutil\n",
    "shutil.move(\"synthetic.csv\", \"../postgres/initdb/synthetic.csv\")"
   ]
  },
  {
   "cell_type": "code",
   "execution_count": null,
   "id": "645c0485",
   "metadata": {},
   "outputs": [],
   "source": []
  }
 ],
 "metadata": {
  "kernelspec": {
   "display_name": ".venv",
   "language": "python",
   "name": "python3"
  },
  "language_info": {
   "codemirror_mode": {
    "name": "ipython",
    "version": 3
   },
   "file_extension": ".py",
   "mimetype": "text/x-python",
   "name": "python",
   "nbconvert_exporter": "python",
   "pygments_lexer": "ipython3",
   "version": "3.13.3"
  }
 },
 "nbformat": 4,
 "nbformat_minor": 5
}
